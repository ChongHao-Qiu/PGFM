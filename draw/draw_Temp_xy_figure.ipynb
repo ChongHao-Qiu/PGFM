{
 "cells": [
  {
   "cell_type": "code",
   "execution_count": 1,
   "metadata": {},
   "outputs": [
    {
     "name": "stdout",
     "output_type": "stream",
     "text": [
      "       Unnamed: 0  sup_loss_all  sup_loss_winter  sup_loss_summer  \\\n",
      "0              PB      2.736595         1.623769         2.795256   \n",
      "1            lstm      3.982492         3.929459         3.841073   \n",
      "2          ealstm      4.480750         2.993224         4.590395   \n",
      "3     transformer      3.804195         4.805874         3.589267   \n",
      "4         fm-lstm      1.991938         1.577890         2.003488   \n",
      "5  fm-transformer      2.140433         1.603402         2.177072   \n",
      "6           fm-pg      1.940914         1.364559         1.952790   \n",
      "\n",
      "   dc_unsup_loss  ec_unsup_loss_all  \n",
      "0       0.081524           0.425072  \n",
      "1       9.994079         147.569327  \n",
      "2      18.359290         171.348240  \n",
      "3      20.298826         186.434611  \n",
      "4      49.664106         138.562261  \n",
      "5      25.627843         130.831317  \n",
      "6       2.135416          31.601068  \n"
     ]
    }
   ],
   "source": [
    "import matplotlib.pyplot as plt\n",
    "import pandas as pd\n",
    "from matplotlib.ticker import FuncFormatter\n",
    "from matplotlib.ticker import MultipleLocator\n",
    "from matplotlib.legend_handler import HandlerLine2D\n",
    "import matplotlib.lines as mlines\n",
    "import os\n",
    "mean_read_path = 'temperature/combined_mean_lake61_results.csv'\n",
    "std_read_path = 'temperature/combined_std_lake61_results.csv'\n",
    "\n",
    "temp_mean = pd.read_csv(mean_read_path)\n",
    "temp_std = pd.read_csv(std_read_path)\n",
    "\n",
    "print(temp_mean)"
   ]
  },
  {
   "cell_type": "code",
   "execution_count": 33,
   "metadata": {},
   "outputs": [
    {
     "name": "stdout",
     "output_type": "stream",
     "text": [
      "i: 0\n",
      "i: 1\n",
      "i: 2\n",
      "i: 3\n"
     ]
    }
   ],
   "source": [
    "# Model_list = ['___','LSTM', 'EA-LSTM', 'Transformer', '____', '____', '____', 'PGFM']\n",
    "Model_list = ['LSTM', 'EA-LSTM', 'Transformer', 'PGFM']\n",
    "Model_index = [1,2,3,6]\n",
    "marker_styles = ['o', '^', 's', 'p', 'x', 'D']\n",
    "color_list = ['#4f81bd', '#c0504d', '#9bbb59', '#8064a2', '#4bacc6', '#f79646']\n",
    "\n",
    "\n",
    "FONT_SIZE = 20\n",
    "FONT_SIZE_LABEL = 19\n",
    "FONT_SIZE_TICK = 17\n",
    "save_path_man = 'temperature'\n",
    "os.makedirs(save_path_man, exist_ok=True)\n",
    "\n",
    "\n",
    "save_path = os.path.join(save_path_man, f'temp_ec.pdf')\n",
    "x_name = f'ec_unsup_loss_all'\n",
    "y_name = f'sup_loss_summer'\n",
    "X = {}\n",
    "Y = {}\n",
    "Std_X = {}\n",
    "Std_Y = {}\n",
    "plt.figure(figsize=(7, 6))\n",
    "for i, index in enumerate(Model_index):\n",
    "    print(\"i:\", i)\n",
    "    plt.errorbar(temp_mean[x_name][index], temp_mean[y_name][index], xerr=temp_std[x_name][index], yerr=temp_std[y_name][index], fmt=marker_styles[i], label=f'{Model_list[i]}'\n",
    "                 , color = color_list[i], markersize = 22, elinewidth=2)\n",
    "\n",
    "\n",
    "\n",
    "plt.ylim(1.7, 5.1)\n",
    "plt.xlim(15, 220)\n",
    "plt.gca().xaxis.set_major_locator(MultipleLocator(50))\n",
    "\n",
    "plt.xlabel('Energy inconsistency ($W \\, m^{-2}$)', fontsize=FONT_SIZE)\n",
    "plt.ylabel('RMSE ($°C$)',  fontsize=FONT_SIZE)\n",
    "# plt.title(f'Cluster - {cluster_id}  {Pic_type[k]}')\n",
    "# plt.legend(fontsize=FONT_SIZE_LABEL, loc='upper right', frameon=True, edgecolor='black', framealpha=0.47, fancybox=True)\n",
    "\n",
    "legend_handles = []\n",
    "for i in range(len(Model_list)):\n",
    "    line = mlines.Line2D([], [], color=color_list[i], marker=marker_styles[i], markersize=17, label=f'{Model_list[i]}',\n",
    "                         linestyle='None', markeredgewidth=2)  \n",
    "    legend_handles.append(line)\n",
    "\n",
    "\n",
    "plt.legend(handles=legend_handles, fontsize=FONT_SIZE_LABEL, loc='upper left', frameon=True, edgecolor='black', framealpha=0.5, fancybox=True)\n",
    "\n",
    "plt.gca().yaxis.set_major_locator(MultipleLocator(0.5))\n",
    "plt.tick_params(axis='both', which='major', labelsize=FONT_SIZE_TICK)\n",
    "plt.subplots_adjust(left=0.15, right=0.95, top=0.92, bottom=0.15)  \n",
    "\n",
    "# plt.show()\n",
    "plt.savefig(save_path)\n",
    "plt.close()\n"
   ]
  }
 ],
 "metadata": {
  "kernelspec": {
   "display_name": "pgfm_env",
   "language": "python",
   "name": "python3"
  },
  "language_info": {
   "codemirror_mode": {
    "name": "ipython",
    "version": 3
   },
   "file_extension": ".py",
   "mimetype": "text/x-python",
   "name": "python",
   "nbconvert_exporter": "python",
   "pygments_lexer": "ipython3",
   "version": "3.8.19"
  }
 },
 "nbformat": 4,
 "nbformat_minor": 2
}
